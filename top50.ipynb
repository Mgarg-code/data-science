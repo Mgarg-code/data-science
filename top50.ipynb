{
 "cells": [
  {
   "cell_type": "code",
   "execution_count": 2,
   "metadata": {},
   "outputs": [],
   "source": [
    "import csv\n",
    "import numpy as np\n",
    "import pandas as pd\n",
    "import matplotlib.pyplot as plt\n",
    "import seaborn as sns"
   ]
  },
  {
   "cell_type": "code",
   "execution_count": 3,
   "metadata": {},
   "outputs": [],
   "source": [
    "df=pd.read_csv(\"top50.csv\",encoding='ISO-8859-1')"
   ]
  },
  {
   "cell_type": "code",
   "execution_count": 4,
   "metadata": {},
   "outputs": [
    {
     "data": {
      "text/html": [
       "<div>\n",
       "<style scoped>\n",
       "    .dataframe tbody tr th:only-of-type {\n",
       "        vertical-align: middle;\n",
       "    }\n",
       "\n",
       "    .dataframe tbody tr th {\n",
       "        vertical-align: top;\n",
       "    }\n",
       "\n",
       "    .dataframe thead th {\n",
       "        text-align: right;\n",
       "    }\n",
       "</style>\n",
       "<table border=\"1\" class=\"dataframe\">\n",
       "  <thead>\n",
       "    <tr style=\"text-align: right;\">\n",
       "      <th></th>\n",
       "      <th>Unnamed: 0</th>\n",
       "      <th>Track.Name</th>\n",
       "      <th>Artist.Name</th>\n",
       "      <th>Genre</th>\n",
       "      <th>Beats.Per.Minute</th>\n",
       "      <th>Energy</th>\n",
       "      <th>Danceability</th>\n",
       "      <th>Loudness..dB..</th>\n",
       "      <th>Liveness</th>\n",
       "      <th>Valence.</th>\n",
       "      <th>Length.</th>\n",
       "      <th>Acousticness..</th>\n",
       "      <th>Speechiness.</th>\n",
       "      <th>Popularity</th>\n",
       "    </tr>\n",
       "  </thead>\n",
       "  <tbody>\n",
       "    <tr>\n",
       "      <th>0</th>\n",
       "      <td>1</td>\n",
       "      <td>Señorita</td>\n",
       "      <td>Shawn Mendes</td>\n",
       "      <td>canadian pop</td>\n",
       "      <td>117</td>\n",
       "      <td>55</td>\n",
       "      <td>76</td>\n",
       "      <td>-6</td>\n",
       "      <td>8</td>\n",
       "      <td>75</td>\n",
       "      <td>191</td>\n",
       "      <td>4</td>\n",
       "      <td>3</td>\n",
       "      <td>79</td>\n",
       "    </tr>\n",
       "    <tr>\n",
       "      <th>1</th>\n",
       "      <td>2</td>\n",
       "      <td>China</td>\n",
       "      <td>Anuel AA</td>\n",
       "      <td>reggaeton flow</td>\n",
       "      <td>105</td>\n",
       "      <td>81</td>\n",
       "      <td>79</td>\n",
       "      <td>-4</td>\n",
       "      <td>8</td>\n",
       "      <td>61</td>\n",
       "      <td>302</td>\n",
       "      <td>8</td>\n",
       "      <td>9</td>\n",
       "      <td>92</td>\n",
       "    </tr>\n",
       "    <tr>\n",
       "      <th>2</th>\n",
       "      <td>3</td>\n",
       "      <td>boyfriend (with Social House)</td>\n",
       "      <td>Ariana Grande</td>\n",
       "      <td>dance pop</td>\n",
       "      <td>190</td>\n",
       "      <td>80</td>\n",
       "      <td>40</td>\n",
       "      <td>-4</td>\n",
       "      <td>16</td>\n",
       "      <td>70</td>\n",
       "      <td>186</td>\n",
       "      <td>12</td>\n",
       "      <td>46</td>\n",
       "      <td>85</td>\n",
       "    </tr>\n",
       "    <tr>\n",
       "      <th>3</th>\n",
       "      <td>4</td>\n",
       "      <td>Beautiful People (feat. Khalid)</td>\n",
       "      <td>Ed Sheeran</td>\n",
       "      <td>pop</td>\n",
       "      <td>93</td>\n",
       "      <td>65</td>\n",
       "      <td>64</td>\n",
       "      <td>-8</td>\n",
       "      <td>8</td>\n",
       "      <td>55</td>\n",
       "      <td>198</td>\n",
       "      <td>12</td>\n",
       "      <td>19</td>\n",
       "      <td>86</td>\n",
       "    </tr>\n",
       "    <tr>\n",
       "      <th>4</th>\n",
       "      <td>5</td>\n",
       "      <td>Goodbyes (Feat. Young Thug)</td>\n",
       "      <td>Post Malone</td>\n",
       "      <td>dfw rap</td>\n",
       "      <td>150</td>\n",
       "      <td>65</td>\n",
       "      <td>58</td>\n",
       "      <td>-4</td>\n",
       "      <td>11</td>\n",
       "      <td>18</td>\n",
       "      <td>175</td>\n",
       "      <td>45</td>\n",
       "      <td>7</td>\n",
       "      <td>94</td>\n",
       "    </tr>\n",
       "  </tbody>\n",
       "</table>\n",
       "</div>"
      ],
      "text/plain": [
       "   Unnamed: 0                       Track.Name    Artist.Name           Genre  \\\n",
       "0           1                         Señorita   Shawn Mendes    canadian pop   \n",
       "1           2                            China       Anuel AA  reggaeton flow   \n",
       "2           3    boyfriend (with Social House)  Ariana Grande       dance pop   \n",
       "3           4  Beautiful People (feat. Khalid)     Ed Sheeran             pop   \n",
       "4           5      Goodbyes (Feat. Young Thug)    Post Malone         dfw rap   \n",
       "\n",
       "   Beats.Per.Minute  Energy  Danceability  Loudness..dB..  Liveness  Valence.  \\\n",
       "0               117      55            76              -6         8        75   \n",
       "1               105      81            79              -4         8        61   \n",
       "2               190      80            40              -4        16        70   \n",
       "3                93      65            64              -8         8        55   \n",
       "4               150      65            58              -4        11        18   \n",
       "\n",
       "   Length.  Acousticness..  Speechiness.  Popularity  \n",
       "0      191               4             3          79  \n",
       "1      302               8             9          92  \n",
       "2      186              12            46          85  \n",
       "3      198              12            19          86  \n",
       "4      175              45             7          94  "
      ]
     },
     "execution_count": 4,
     "metadata": {},
     "output_type": "execute_result"
    }
   ],
   "source": [
    "df.head(5)"
   ]
  },
  {
   "cell_type": "code",
   "execution_count": 5,
   "metadata": {},
   "outputs": [
    {
     "data": {
      "text/plain": [
       "<bound method NDFrame.describe of     Unnamed: 0                                         Track.Name  \\\n",
       "0            1                                           Señorita   \n",
       "1            2                                              China   \n",
       "2            3                      boyfriend (with Social House)   \n",
       "3            4                    Beautiful People (feat. Khalid)   \n",
       "4            5                        Goodbyes (Feat. Young Thug)   \n",
       "5            6                  I Don't Care (with Justin Bieber)   \n",
       "6            7                                             Ransom   \n",
       "7            8                                  How Do You Sleep?   \n",
       "8            9                              Old Town Road - Remix   \n",
       "9           10                                            bad guy   \n",
       "10          11                                           Callaita   \n",
       "11          12              Loco Contigo (feat. J. Balvin & Tyga)   \n",
       "12          13                                  Someone You Loved   \n",
       "13          14                                 Otro Trago - Remix   \n",
       "14          15           Money In The Grave (Drake ft. Rick Ross)   \n",
       "15          16                          No Guidance (feat. Drake)   \n",
       "16          17                                         LA CANCIÓN   \n",
       "17          18      Sunflower - Spider-Man: Into the Spider-Verse   \n",
       "18          19                                             Lalala   \n",
       "19          20                                        Truth Hurts   \n",
       "20          21                                Piece Of Your Heart   \n",
       "21          22                                             Panini   \n",
       "22          23                               No Me Conoce - Remix   \n",
       "23          24                                    Soltera - Remix   \n",
       "24          25                       bad guy (with Justin Bieber)   \n",
       "25          26                                If I Can't Have You   \n",
       "26          27                                       Dance Monkey   \n",
       "27          28                                           It's You   \n",
       "28          29                                          Con Calma   \n",
       "29          30                                      QUE PRETENDES   \n",
       "30          31                                           Takeaway   \n",
       "31          32                                            7 rings   \n",
       "32          33                                  0.958333333333333   \n",
       "33          34          The London (feat. J. Cole & Travis Scott)   \n",
       "34          35                                  Never Really Over   \n",
       "35          36  Summer Days (feat. Macklemore & Patrick Stump ...   \n",
       "36          37                                         Otro Trago   \n",
       "37          38                     Antisocial (with Travis Scott)   \n",
       "38          39                                             Sucker   \n",
       "39          40  fuck, i'm lonely (with Anne-Marie) - from 13 ...   \n",
       "40          41                                        Higher Love   \n",
       "41          42                              You Need To Calm Down   \n",
       "42          43                                            Shallow   \n",
       "43          44                                               Talk   \n",
       "44          45                                         Con Altura   \n",
       "45          46                                    One Thing Right   \n",
       "46          47                                          Te Robaré   \n",
       "47          48                                            Happier   \n",
       "48          49                                      Call You Mine   \n",
       "49          50      Cross Me (feat. Chance the Rapper & PnB Rock)   \n",
       "\n",
       "         Artist.Name             Genre  Beats.Per.Minute  Energy  \\\n",
       "0       Shawn Mendes      canadian pop               117      55   \n",
       "1           Anuel AA    reggaeton flow               105      81   \n",
       "2      Ariana Grande         dance pop               190      80   \n",
       "3         Ed Sheeran               pop                93      65   \n",
       "4        Post Malone           dfw rap               150      65   \n",
       "5         Ed Sheeran               pop               102      68   \n",
       "6          Lil Tecca        trap music               180      64   \n",
       "7          Sam Smith               pop               111      68   \n",
       "8          Lil Nas X       country rap               136      62   \n",
       "9      Billie Eilish        electropop               135      43   \n",
       "10         Bad Bunny         reggaeton               176      62   \n",
       "11          DJ Snake         dance pop                96      71   \n",
       "12     Lewis Capaldi               pop               110      41   \n",
       "13              Sech    panamanian pop               176      79   \n",
       "14             Drake  canadian hip hop               101      50   \n",
       "15       Chris Brown         dance pop                93      45   \n",
       "16          J Balvin             latin               176      65   \n",
       "17       Post Malone           dfw rap                90      48   \n",
       "18               Y2K  canadian hip hop               130      39   \n",
       "19             Lizzo       escape room               158      62   \n",
       "20            MEDUZA         pop house               124      74   \n",
       "21         Lil Nas X       country rap               154      59   \n",
       "22       Jhay Cortez    reggaeton flow                92      79   \n",
       "23             Lunay             latin                92      78   \n",
       "24     Billie Eilish        electropop               135      45   \n",
       "25      Shawn Mendes      canadian pop               124      82   \n",
       "26       Tones and I    australian pop                98      59   \n",
       "27         Ali Gatie  canadian hip hop                96      46   \n",
       "28      Daddy Yankee             latin                94      86   \n",
       "29          J Balvin             latin                93      79   \n",
       "30  The Chainsmokers               edm                85      51   \n",
       "31     Ariana Grande         dance pop               140      32   \n",
       "32            Maluma         reggaeton                96      71   \n",
       "33        Young Thug       atl hip hop                98      59   \n",
       "34        Katy Perry         dance pop               100      88   \n",
       "35     Martin Garrix          big room               114      72   \n",
       "36              Sech    panamanian pop               176      70   \n",
       "37        Ed Sheeran               pop               152      82   \n",
       "38    Jonas Brothers          boy band               138      73   \n",
       "39              Lauv         dance pop                95      56   \n",
       "40              Kygo               edm               104      68   \n",
       "41      Taylor Swift         dance pop                85      68   \n",
       "42         Lady Gaga         dance pop                96      39   \n",
       "43            Khalid               pop               136      40   \n",
       "44           ROSALÍA    r&b en espanol                98      69   \n",
       "45        Marshmello           brostep                88      62   \n",
       "46         Nicky Jam             latin               176      75   \n",
       "47        Marshmello           brostep               100      79   \n",
       "48  The Chainsmokers               edm               104      70   \n",
       "49        Ed Sheeran               pop                95      79   \n",
       "\n",
       "    Danceability  Loudness..dB..  Liveness  Valence.  Length.  Acousticness..  \\\n",
       "0             76              -6         8        75      191               4   \n",
       "1             79              -4         8        61      302               8   \n",
       "2             40              -4        16        70      186              12   \n",
       "3             64              -8         8        55      198              12   \n",
       "4             58              -4        11        18      175              45   \n",
       "5             80              -5         9        84      220               9   \n",
       "6             75              -6         7        23      131               2   \n",
       "7             48              -5         8        35      202              15   \n",
       "8             88              -6        11        64      157               5   \n",
       "9             70             -11        10        56      194              33   \n",
       "10            61              -5        24        24      251              60   \n",
       "11            82              -4        15        38      185              28   \n",
       "12            50              -6        11        45      182              75   \n",
       "13            73              -2         6        76      288               7   \n",
       "14            83              -4        12        10      205              10   \n",
       "15            70              -7        16        14      261              12   \n",
       "16            75              -6        11        43      243              15   \n",
       "17            76              -6         7        91      158              56   \n",
       "18            84              -8        14        50      161              18   \n",
       "19            72              -3        12        41      173              11   \n",
       "20            68              -7         7        63      153               4   \n",
       "21            70              -6        12        48      115              34   \n",
       "22            81              -4         9        58      309              14   \n",
       "23            80              -4        44        80      266              36   \n",
       "24            67             -11        12        68      195              25   \n",
       "25            69              -4        13        87      191              49   \n",
       "26            82              -6        18        54      210              69   \n",
       "27            73              -7        19        40      213              37   \n",
       "28            74              -3         6        66      193              11   \n",
       "29            64              -4        36        94      222               3   \n",
       "30            29              -8        10        36      210              12   \n",
       "31            78             -11         9        33      179              59   \n",
       "32            78              -5         9        68      176              22   \n",
       "33            80              -7        13        18      200               2   \n",
       "34            77              -5        32        39      224              19   \n",
       "35            66              -7        14        32      164              18   \n",
       "36            75              -5        11        62      226              14   \n",
       "37            72              -5        36        91      162              13   \n",
       "38            84              -5        11        95      181               4   \n",
       "39            81              -6         6        68      199              48   \n",
       "40            69              -7        10        40      228               2   \n",
       "41            77              -6         7        73      171               1   \n",
       "42            57              -6        23        32      216              37   \n",
       "43            90              -9         6        35      198               5   \n",
       "44            88              -4         5        75      162              39   \n",
       "45            66              -2        58        44      182               7   \n",
       "46            67              -4         8        80      202              24   \n",
       "47            69              -3        17        67      214              19   \n",
       "48            59              -6        41        50      218              23   \n",
       "49            75              -6         7        61      206              21   \n",
       "\n",
       "    Speechiness.  Popularity  \n",
       "0              3          79  \n",
       "1              9          92  \n",
       "2             46          85  \n",
       "3             19          86  \n",
       "4              7          94  \n",
       "5              4          84  \n",
       "6             29          92  \n",
       "7              9          90  \n",
       "8             10          87  \n",
       "9             38          95  \n",
       "10            31          93  \n",
       "11             7          86  \n",
       "12             3          88  \n",
       "13            20          87  \n",
       "14             5          92  \n",
       "15            15          82  \n",
       "16            32          90  \n",
       "17             5          91  \n",
       "18             8          88  \n",
       "19            11          91  \n",
       "20             3          91  \n",
       "21             8          91  \n",
       "22             7          83  \n",
       "23             4          91  \n",
       "24            30          89  \n",
       "25             6          70  \n",
       "26            10          83  \n",
       "27             3          89  \n",
       "28             6          91  \n",
       "29            25          89  \n",
       "30             4          84  \n",
       "31            33          89  \n",
       "32            28          89  \n",
       "33            15          89  \n",
       "34             6          89  \n",
       "35             6          89  \n",
       "36            34          91  \n",
       "37             5          87  \n",
       "38             6          80  \n",
       "39             7          78  \n",
       "40             3          88  \n",
       "41             5          90  \n",
       "42             3          87  \n",
       "43            13          84  \n",
       "44            12          88  \n",
       "45             5          88  \n",
       "46             6          88  \n",
       "47             5          88  \n",
       "48             3          88  \n",
       "49            12          82  >"
      ]
     },
     "execution_count": 5,
     "metadata": {},
     "output_type": "execute_result"
    }
   ],
   "source": [
    "df.describe"
   ]
  },
  {
   "cell_type": "code",
   "execution_count": 6,
   "metadata": {},
   "outputs": [
    {
     "data": {
      "text/plain": [
       "Unnamed: 0           25.50\n",
       "Beats.Per.Minute    120.06\n",
       "Energy               64.06\n",
       "Danceability         71.38\n",
       "Loudness..dB..       -5.66\n",
       "Liveness             14.66\n",
       "Valence.             54.60\n",
       "Length.             200.96\n",
       "Acousticness..       22.16\n",
       "Speechiness.         12.48\n",
       "Popularity           87.50\n",
       "dtype: float64"
      ]
     },
     "execution_count": 6,
     "metadata": {},
     "output_type": "execute_result"
    }
   ],
   "source": [
    "df.mean()"
   ]
  },
  {
   "cell_type": "code",
   "execution_count": 7,
   "metadata": {},
   "outputs": [],
   "source": [
    "df=df.drop(['Unnamed: 0'],axis=1)"
   ]
  },
  {
   "cell_type": "code",
   "execution_count": 8,
   "metadata": {},
   "outputs": [
    {
     "data": {
      "text/html": [
       "<div>\n",
       "<style scoped>\n",
       "    .dataframe tbody tr th:only-of-type {\n",
       "        vertical-align: middle;\n",
       "    }\n",
       "\n",
       "    .dataframe tbody tr th {\n",
       "        vertical-align: top;\n",
       "    }\n",
       "\n",
       "    .dataframe thead th {\n",
       "        text-align: right;\n",
       "    }\n",
       "</style>\n",
       "<table border=\"1\" class=\"dataframe\">\n",
       "  <thead>\n",
       "    <tr style=\"text-align: right;\">\n",
       "      <th></th>\n",
       "      <th>Track.Name</th>\n",
       "      <th>Artist.Name</th>\n",
       "      <th>Genre</th>\n",
       "      <th>Beats.Per.Minute</th>\n",
       "      <th>Energy</th>\n",
       "      <th>Danceability</th>\n",
       "      <th>Loudness..dB..</th>\n",
       "      <th>Liveness</th>\n",
       "      <th>Valence.</th>\n",
       "      <th>Length.</th>\n",
       "      <th>Acousticness..</th>\n",
       "      <th>Speechiness.</th>\n",
       "      <th>Popularity</th>\n",
       "    </tr>\n",
       "  </thead>\n",
       "  <tbody>\n",
       "    <tr>\n",
       "      <th>47</th>\n",
       "      <td>Happier</td>\n",
       "      <td>Marshmello</td>\n",
       "      <td>brostep</td>\n",
       "      <td>100</td>\n",
       "      <td>79</td>\n",
       "      <td>69</td>\n",
       "      <td>-3</td>\n",
       "      <td>17</td>\n",
       "      <td>67</td>\n",
       "      <td>214</td>\n",
       "      <td>19</td>\n",
       "      <td>5</td>\n",
       "      <td>88</td>\n",
       "    </tr>\n",
       "    <tr>\n",
       "      <th>48</th>\n",
       "      <td>Call You Mine</td>\n",
       "      <td>The Chainsmokers</td>\n",
       "      <td>edm</td>\n",
       "      <td>104</td>\n",
       "      <td>70</td>\n",
       "      <td>59</td>\n",
       "      <td>-6</td>\n",
       "      <td>41</td>\n",
       "      <td>50</td>\n",
       "      <td>218</td>\n",
       "      <td>23</td>\n",
       "      <td>3</td>\n",
       "      <td>88</td>\n",
       "    </tr>\n",
       "    <tr>\n",
       "      <th>49</th>\n",
       "      <td>Cross Me (feat. Chance the Rapper &amp; PnB Rock)</td>\n",
       "      <td>Ed Sheeran</td>\n",
       "      <td>pop</td>\n",
       "      <td>95</td>\n",
       "      <td>79</td>\n",
       "      <td>75</td>\n",
       "      <td>-6</td>\n",
       "      <td>7</td>\n",
       "      <td>61</td>\n",
       "      <td>206</td>\n",
       "      <td>21</td>\n",
       "      <td>12</td>\n",
       "      <td>82</td>\n",
       "    </tr>\n",
       "  </tbody>\n",
       "</table>\n",
       "</div>"
      ],
      "text/plain": [
       "                                       Track.Name       Artist.Name    Genre  \\\n",
       "47                                        Happier        Marshmello  brostep   \n",
       "48                                  Call You Mine  The Chainsmokers      edm   \n",
       "49  Cross Me (feat. Chance the Rapper & PnB Rock)        Ed Sheeran      pop   \n",
       "\n",
       "    Beats.Per.Minute  Energy  Danceability  Loudness..dB..  Liveness  \\\n",
       "47               100      79            69              -3        17   \n",
       "48               104      70            59              -6        41   \n",
       "49                95      79            75              -6         7   \n",
       "\n",
       "    Valence.  Length.  Acousticness..  Speechiness.  Popularity  \n",
       "47        67      214              19             5          88  \n",
       "48        50      218              23             3          88  \n",
       "49        61      206              21            12          82  "
      ]
     },
     "execution_count": 8,
     "metadata": {},
     "output_type": "execute_result"
    }
   ],
   "source": [
    "df.tail(3) "
   ]
  },
  {
   "cell_type": "code",
   "execution_count": 26,
   "metadata": {},
   "outputs": [
    {
     "data": {
      "text/plain": [
       "<matplotlib.axes._subplots.AxesSubplot at 0x22f08e8a2b0>"
      ]
     },
     "execution_count": 26,
     "metadata": {},
     "output_type": "execute_result"
    },
    {
     "data": {
      "image/png": "[encoded data removed]",
      "text/plain": [
       "<Figure size 432x288 with 1 Axes>"
      ]
     },
     "metadata": {
      "needs_background": "light"
     },
     "output_type": "display_data"
    }
   ],
   "source": [
    "#1 show the graph that show the list of top artist\n",
    "df['Artist.Name'].value_counts()[:15].plot(kind='bar',title='TOP ARTIST AND THIR NO OF SONGS',color=\"blue\")\n",
    "#plt.xticks(\"COUNTS\")\n",
    "#plt.yticks(\"NAME OF SINGERS\")"
   ]
  },
  {
   "cell_type": "code",
   "execution_count": 25,
   "metadata": {},
   "outputs": [
    {
     "data": {
      "image/png": "[encoded data removed]",
      "text/plain": [
       "<Figure size 432x288 with 1 Axes>"
      ]
     },
     "metadata": {
      "needs_background": "light"
     },
     "output_type": "display_data"
    }
   ],
   "source": [
    "#2 top  genre of song \n",
    "a=df['Genre'].value_counts().plot(kind='bar',title='top no of genre ',color=\"blue\")\n",
    "#plt.xticks(\"NAME OF GENRE\",fontsize=12)\n",
    "#plt.yticks(\"COUNTS\",fontsize=12)"
   ]
  },
  {
   "cell_type": "code",
   "execution_count": 10,
   "metadata": {},
   "outputs": [
    {
     "name": "stdout",
     "output_type": "stream",
     "text": [
      "<class 'pandas.core.series.Series'>\n",
      "Genre\n",
      "atl hip hop         1\n",
      "australian pop      1\n",
      "big room            1\n",
      "boy band            1\n",
      "brostep             2\n",
      "canadian hip hop    3\n",
      "canadian pop        2\n",
      "country rap         2\n",
      "dance pop           8\n",
      "dfw rap             2\n",
      "edm                 3\n",
      "electropop          2\n",
      "escape room         1\n",
      "latin               5\n",
      "panamanian pop      2\n",
      "pop                 7\n",
      "pop house           1\n",
      "r&b en espanol      1\n",
      "reggaeton           2\n",
      "reggaeton flow      2\n",
      "trap music          1\n",
      "dtype: int64\n"
     ]
    }
   ],
   "source": [
    "#Calculating the number of songs of each genre\n",
    "print(type(df['Genre']))\n",
    "popular_genre=df.groupby('Genre').size()\n",
    "print(popular_genre)\n",
    "genre_list=df['Genre'].values.tolist()"
   ]
  },
  {
   "cell_type": "code",
   "execution_count": null,
   "metadata": {},
   "outputs": [],
   "source": []
  },
  {
   "cell_type": "code",
   "execution_count": 19,
   "metadata": {},
   "outputs": [
    {
     "data": {
      "image/png": "[encoded data removed]",
      "text/plain": [
       "<Figure size 432x288 with 1 Axes>"
      ]
     },
     "metadata": {
      "needs_background": "light"
     },
     "output_type": "display_data"
    }
   ],
   "source": [
    "#3 which genre song have maximum popularitya\n",
    "# Bar graph to see the number of songs of each genre\n",
    "length=np.arange(len(popular_genre))\n",
    "plt.bar(length,popular_genre,color='blue',edgecolor='black')\n",
    "plt.tick_params(rotation=90)\n",
    "plt.xticks(length,genre_list)\n",
    "plt.title('Most popular genre',fontsize=18)\n",
    "plt.xlabel('Genre',fontsize=16)\n",
    "plt.ylabel('Number of songs',fontsize=16)\n",
    "plt.show()"
   ]
  },
  {
   "cell_type": "code",
   "execution_count": 17,
   "metadata": {},
   "outputs": [
    {
     "data": {
      "image/png": "[encoded data removed]",
      "text/plain": [
       "<Figure size 432x288 with 1 Axes>"
      ]
     },
     "metadata": {
      "needs_background": "light"
     },
     "output_type": "display_data"
    }
   ],
   "source": [
    "gb=df.groupby(\"Genre\").sum()\n",
    "gb.head()\n",
    "\n",
    "# calculate the number of row and columns\n",
    "\n",
    "gb.shape\n",
    "\n",
    "sns.boxplot(y=df[\"Popularity\"])\n",
    "plt.show()"
   ]
  },
  {
   "cell_type": "code",
   "execution_count": 20,
   "metadata": {},
   "outputs": [
    {
     "data": {
      "text/plain": [
       "Text(0, 0.5, 'popularity')"
      ]
     },
     "execution_count": 20,
     "metadata": {},
     "output_type": "execute_result"
    },
    {
     "data": {
      "image/png": "[encoded data removed]",
      "text/plain": [
       "<Figure size 864x576 with 1 Axes>"
      ]
     },
     "metadata": {
      "needs_background": "light"
     },
     "output_type": "display_data"
    }
   ],
   "source": [
    "plt.figure(figsize=(12,8))\n",
    "sns.violinplot(x=df[\"Loudness..dB..\"],y=df[\"Popularity\"])\n",
    "plt.xlabel(\"loudness\")\n",
    "plt.ylabel(\"popularity\")"
   ]
  },
  {
   "cell_type": "code",
   "execution_count": 16,
   "metadata": {},
   "outputs": [],
   "source": [
    "#8 top song with their popularity and their energy level"
   ]
  },
  {
   "cell_type": "code",
   "execution_count": 17,
   "metadata": {},
   "outputs": [
    {
     "data": {
      "text/plain": [
       "Index(['Track.Name', 'Artist.Name', 'Genre', 'Beats.Per.Minute', 'Energy',\n",
       "       'Danceability', 'Loudness..dB..', 'Liveness', 'Valence.', 'Length.',\n",
       "       'Acousticness..', 'Speechiness.', 'Popularity'],\n",
       "      dtype='object')"
      ]
     },
     "execution_count": 17,
     "metadata": {},
     "output_type": "execute_result"
    }
   ],
   "source": [
    "df.columns"
   ]
  }
 ],
 "metadata": {
  "kernelspec": {
   "display_name": "Python 3",
   "language": "python",
   "name": "python3"
  },
  "language_info": {
   "codemirror_mode": {
    "name": "ipython",
    "version": 3
   },
   "file_extension": ".py",
   "mimetype": "text/x-python",
   "name": "python",
   "nbconvert_exporter": "python",
   "pygments_lexer": "ipython3",
   "version": "3.7.3"
  }
 },
 "nbformat": 4,
 "nbformat_minor": 2
}
